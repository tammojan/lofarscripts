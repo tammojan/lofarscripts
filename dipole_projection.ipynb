{
 "cells": [
  {
   "cell_type": "code",
   "execution_count": 1,
   "metadata": {},
   "outputs": [],
   "source": [
    "from lofarantpos.db import LofarAntennaDatabase\n",
    "import lofarantpos.geo as lofargeo\n",
    "import astropy.units as u\n",
    "import matplotlib.pyplot as plt\n",
    "from astropy.time import Time\n",
    "from astropy.coordinates import ITRS, EarthLocation, GCRS, SkyCoord, AltAz\n",
    "import numpy as np\n",
    "from numpy.linalg import norm\n",
    "from typing import Union"
   ]
  },
  {
   "cell_type": "code",
   "execution_count": 2,
   "metadata": {},
   "outputs": [],
   "source": [
    "db = LofarAntennaDatabase()"
   ]
  },
  {
   "cell_type": "markdown",
   "metadata": {},
   "source": [
    "## Test / fiddle around"
   ]
  },
  {
   "cell_type": "code",
   "execution_count": 3,
   "metadata": {},
   "outputs": [],
   "source": [
    "t0 = Time(\"2019-01-01T01:00\")\n",
    "stationname = \"LV614LBA\""
   ]
  },
  {
   "cell_type": "code",
   "execution_count": 4,
   "metadata": {},
   "outputs": [],
   "source": [
    "def station_to_itrs(station_name):\n",
    "    \"\"\"Returns an astropy ITRS coordinate for a given station (e.g. 'CS001LBA')\"\"\"\n",
    "    x,y,z = db.phase_centres[station_name]\n",
    "    return ITRS(x=x*u.m, y=y*u.m, z=z*u.m)"
   ]
  },
  {
   "cell_type": "code",
   "execution_count": 27,
   "metadata": {},
   "outputs": [],
   "source": [
    "def station_to_earthlocation(station_name):\n",
    "    \"\"\"Returns an astropy EarthLocation for a given station (e.g. 'CS001LBA')\"\"\"\n",
    "    x,y,z = db.phase_centres[station_name]\n",
    "    return EarthLocation(x=x*u.m, y=y*u.m, z=z*u.m)"
   ]
  },
  {
   "cell_type": "markdown",
   "metadata": {},
   "source": [
    "We will test at zenith:"
   ]
  },
  {
   "cell_type": "code",
   "execution_count": 6,
   "metadata": {},
   "outputs": [],
   "source": [
    "test_coord_skycoord = AltAz(location=station_to_earthlocation(stationname),\n",
    "                            alt=89.0*u.deg, az=0*u.deg,\n",
    "                            obstime=t0).transform_to(GCRS)"
   ]
  },
  {
   "cell_type": "code",
   "execution_count": 7,
   "metadata": {},
   "outputs": [],
   "source": [
    "test_coord_gcrs = test_coord_skycoord.cartesian.get_xyz().value"
   ]
  },
  {
   "cell_type": "markdown",
   "metadata": {},
   "source": [
    "Let's make a matrix to go from sky (GCRS) to ITRS:"
   ]
  },
  {
   "cell_type": "code",
   "execution_count": 8,
   "metadata": {},
   "outputs": [],
   "source": [
    "def gcrs_to_itrs(t):\n",
    "    return SkyCoord(x=np.array([1,0,0]),\n",
    "                    y=np.array([0,1,0]),\n",
    "                    z=np.array([0,0,1]),\n",
    "                    representation_type='cartesian'\n",
    "                   ).transform_to(ITRS(obstime=t)).cartesian.get_xyz().value"
   ]
  },
  {
   "cell_type": "markdown",
   "metadata": {},
   "source": [
    "Test that this matrix does the same thing as an astropy transformation:"
   ]
  },
  {
   "cell_type": "code",
   "execution_count": 9,
   "metadata": {},
   "outputs": [],
   "source": [
    "m31_skycoord = SkyCoord.from_name(\"M31\")"
   ]
  },
  {
   "cell_type": "code",
   "execution_count": 11,
   "metadata": {},
   "outputs": [],
   "source": [
    "m31_gcrs = m31_skycoord.cartesian.get_xyz().value"
   ]
  },
  {
   "cell_type": "code",
   "execution_count": 12,
   "metadata": {},
   "outputs": [
    {
     "data": {
      "text/plain": [
       "array([-0.18731299, -0.72661166,  0.66092166])"
      ]
     },
     "execution_count": 12,
     "metadata": {},
     "output_type": "execute_result"
    }
   ],
   "source": [
    "gcrs_to_itrs(t0).dot(m31_gcrs)"
   ]
  },
  {
   "cell_type": "code",
   "execution_count": 13,
   "metadata": {},
   "outputs": [
    {
     "data": {
      "text/plain": [
       "<SkyCoord (ITRS: obstime=2019-01-01T01:00:00.000): (x, y, z) [dimensionless]\n",
       "    (-0.18731371, -0.72665471, 0.66097391)>"
      ]
     },
     "execution_count": 13,
     "metadata": {},
     "output_type": "execute_result"
    }
   ],
   "source": [
    "m31_skycoord.transform_to(ITRS(obstime=t0))"
   ]
  },
  {
   "cell_type": "markdown",
   "metadata": {},
   "source": [
    "Yay."
   ]
  },
  {
   "cell_type": "markdown",
   "metadata": {},
   "source": [
    "To test whether we computed zenith, let's test whether the ITRS-vector of zenith corresponds to the ITRS-vector that points towards the station phase center."
   ]
  },
  {
   "cell_type": "code",
   "execution_count": 14,
   "metadata": {},
   "outputs": [],
   "source": [
    "station_itrs = station_to_itrs(stationname).cartesian.get_xyz().value\n",
    "station_itrs /= norm(station_itrs)"
   ]
  },
  {
   "cell_type": "code",
   "execution_count": 15,
   "metadata": {},
   "outputs": [
    {
     "data": {
      "text/plain": [
       "1.0423906461441619"
      ]
     },
     "execution_count": 15,
     "metadata": {},
     "output_type": "execute_result"
    }
   ],
   "source": [
    "np.rad2deg(np.arccos((gcrs_to_itrs(t0)@test_coord_gcrs)@station_itrs))"
   ]
  },
  {
   "cell_type": "markdown",
   "metadata": {},
   "source": [
    "Ok, somehow there is an error of about one degree. That's probably because the station plane is not exactly tangent to a spherical earth. Let's ignore for now."
   ]
  },
  {
   "cell_type": "markdown",
   "metadata": {},
   "source": [
    "Define the dipoles, as unit vectors in the PQR system, and convert them to ETRS."
   ]
  },
  {
   "cell_type": "code",
   "execution_count": 16,
   "metadata": {},
   "outputs": [],
   "source": [
    "a = np.sqrt(.5)\n",
    "dipoles_pqr = np.array([[ a,  a, 0],\n",
    "                        [ a, -a, 0],\n",
    "                        [-a, -a, 0],\n",
    "                        [-a,  a, 0]]).T"
   ]
  },
  {
   "cell_type": "markdown",
   "metadata": {},
   "source": [
    "Note that we assume here that ITRS = ETRS, which is true to the meter level. (We could use Michiel's `etrsitrs` package here, but I think we've already got enough coordinate frames.)"
   ]
  },
  {
   "cell_type": "markdown",
   "metadata": {},
   "source": [
    "So, now we have three coordinate frames:\n",
    " * GCRS (sky)\n",
    " * ITRS (Earth)\n",
    " * pqr (station)\n",
    " \n",
    "We have two matrices to convert between these:\n",
    " * `pqr_to_etrs`\n",
    " * `gcrs_to_itrs`\n",
    "\n",
    "To convert the other way around, these matrices need to be inverted, which is the same as transposing them because they are orthonormal."
   ]
  },
  {
   "cell_type": "code",
   "execution_count": 17,
   "metadata": {},
   "outputs": [
    {
     "data": {
      "text/plain": [
       "array([[ 1.00000001e+00, -1.23667471e-09,  4.90946427e-09],\n",
       "       [-1.23667471e-09,  9.99999999e-01, -3.42687348e-09],\n",
       "       [ 4.90946427e-09, -3.42687348e-09,  9.99999996e-01]])"
      ]
     },
     "execution_count": 17,
     "metadata": {},
     "output_type": "execute_result"
    }
   ],
   "source": [
    "db.pqr_to_etrs[stationname]@(db.pqr_to_etrs[stationname].T)"
   ]
  },
  {
   "cell_type": "markdown",
   "metadata": {},
   "source": [
    "Project the dipoles to the plane orthogonal to the test_coord. Do this in ITRS frame."
   ]
  },
  {
   "cell_type": "code",
   "execution_count": 20,
   "metadata": {},
   "outputs": [],
   "source": [
    "test_coord_itrs = gcrs_to_itrs(t0)@test_coord_gcrs"
   ]
  },
  {
   "cell_type": "code",
   "execution_count": 21,
   "metadata": {},
   "outputs": [],
   "source": [
    "dipoles_itrs = db.pqr_to_etrs[stationname]@dipoles_pqr"
   ]
  },
  {
   "cell_type": "code",
   "execution_count": 22,
   "metadata": {},
   "outputs": [],
   "source": [
    "dipoles_projected_itrs = dipoles_itrs - \\\n",
    "                         test_coord_itrs.dot(dipoles_itrs) * test_coord_itrs[:, np.newaxis]"
   ]
  },
  {
   "cell_type": "markdown",
   "metadata": {},
   "source": [
    "Check that the projected dipoles are indeed orthogonal to the test coordinate:"
   ]
  },
  {
   "cell_type": "code",
   "execution_count": 23,
   "metadata": {},
   "outputs": [
    {
     "data": {
      "text/plain": [
       "array([-8.09485468e-07,  1.26055095e-06,  8.09485468e-07, -1.26055095e-06])"
      ]
     },
     "execution_count": 23,
     "metadata": {},
     "output_type": "execute_result"
    }
   ],
   "source": [
    "dipoles_projected_itrs.T@test_coord_itrs"
   ]
  },
  {
   "cell_type": "markdown",
   "metadata": {},
   "source": [
    "Yay."
   ]
  },
  {
   "cell_type": "code",
   "execution_count": 24,
   "metadata": {},
   "outputs": [],
   "source": [
    "dipoles_projected_gcrs = (gcrs_to_itrs(t0).T)@dipoles_projected_itrs"
   ]
  },
  {
   "cell_type": "markdown",
   "metadata": {},
   "source": [
    "These are the dipoles projected to GCRS. All we need to do now is plot them on the plane orthogonal to the vector `test_coord_gcrs`.\n",
    "Unfortunately I don't know how to do this properly. Idea for now: rotate along the *z*-axis to set RA to zero, then rotate along the `y`-axis to set DEC to zero. Then the vectors should point straight up."
   ]
  },
  {
   "cell_type": "code",
   "execution_count": 25,
   "metadata": {},
   "outputs": [],
   "source": [
    "def rot_ra(phi):\n",
    "    \"\"\"Rotates back along the z-axis with an angle phi\"\"\"\n",
    "    return  np.array([[np.cos(-phi), - np.sin(-phi), 0],\n",
    "                      [np.sin(-phi),   np.cos(-phi), 0],\n",
    "                      [0, 0, 1]])"
   ]
  },
  {
   "cell_type": "markdown",
   "metadata": {},
   "source": [
    "Let's check this matrix by rotating `test_coord` back to ra=0:"
   ]
  },
  {
   "cell_type": "code",
   "execution_count": 26,
   "metadata": {},
   "outputs": [],
   "source": [
    "test_coord_gcrs_rotra = rot_ra(test_coord_skycoord.ra)@test_coord_gcrs"
   ]
  },
  {
   "cell_type": "code",
   "execution_count": 27,
   "metadata": {},
   "outputs": [],
   "source": [
    "test_coord_skycoord_rotra = SkyCoord(x=test_coord_gcrs_rotra[0],\n",
    "                                     y=test_coord_gcrs_rotra[1],\n",
    "                                     z=test_coord_gcrs_rotra[2],\n",
    "                                     representation_type='cartesian',frame=GCRS).transform_to(GCRS)"
   ]
  },
  {
   "cell_type": "code",
   "execution_count": 28,
   "metadata": {},
   "outputs": [
    {
     "data": {
      "text/plain": [
       "136.89845023878425"
      ]
     },
     "execution_count": 28,
     "metadata": {},
     "output_type": "execute_result"
    }
   ],
   "source": [
    "test_coord_skycoord.ra.degree"
   ]
  },
  {
   "cell_type": "code",
   "execution_count": 29,
   "metadata": {},
   "outputs": [
    {
     "data": {
      "text/plain": [
       "359.9999999999938"
      ]
     },
     "execution_count": 29,
     "metadata": {},
     "output_type": "execute_result"
    }
   ],
   "source": [
    "test_coord_skycoord_rotra.ra.degree"
   ]
  },
  {
   "cell_type": "markdown",
   "metadata": {},
   "source": [
    "Yay. Check that the declination does not change:"
   ]
  },
  {
   "cell_type": "code",
   "execution_count": 30,
   "metadata": {},
   "outputs": [
    {
     "data": {
      "text/plain": [
       "58.63401021546225"
      ]
     },
     "execution_count": 30,
     "metadata": {},
     "output_type": "execute_result"
    }
   ],
   "source": [
    "test_coord_skycoord.dec.degree"
   ]
  },
  {
   "cell_type": "code",
   "execution_count": 31,
   "metadata": {},
   "outputs": [
    {
     "data": {
      "text/plain": [
       "58.6340102154778"
      ]
     },
     "execution_count": 31,
     "metadata": {},
     "output_type": "execute_result"
    }
   ],
   "source": [
    "test_coord_skycoord_rotra.dec.degree"
   ]
  },
  {
   "cell_type": "markdown",
   "metadata": {},
   "source": [
    "Yay."
   ]
  },
  {
   "cell_type": "markdown",
   "metadata": {},
   "source": [
    "Now rotate the declination."
   ]
  },
  {
   "cell_type": "code",
   "execution_count": 32,
   "metadata": {},
   "outputs": [],
   "source": [
    "def rot_dec(theta):\n",
    "    \"\"\"Rotates back along the y-axis with an angle theta\"\"\"\n",
    "    return  np.array([[np.cos(-theta), 0, - np.sin(-theta)],\n",
    "                      [0,              1,                0],\n",
    "                      [np.sin(-theta), 0,   np.cos(-theta)]])"
   ]
  },
  {
   "cell_type": "markdown",
   "metadata": {},
   "source": [
    "Test that this works (**note** we need to rotate back the RA first):"
   ]
  },
  {
   "cell_type": "code",
   "execution_count": 33,
   "metadata": {},
   "outputs": [],
   "source": [
    "test_coord_gcrs_rotdec = rot_dec(test_coord_skycoord_rotra.dec)@test_coord_gcrs_rotra"
   ]
  },
  {
   "cell_type": "code",
   "execution_count": 34,
   "metadata": {},
   "outputs": [],
   "source": [
    "test_coord_skycoord_rotdec = SkyCoord(x=test_coord_gcrs_rotdec[0],\n",
    "                                      y=test_coord_gcrs_rotdec[1],\n",
    "                                      z=test_coord_gcrs_rotdec[2],\n",
    "                                      representation_type='cartesian',frame=GCRS).transform_to(GCRS)"
   ]
  },
  {
   "cell_type": "code",
   "execution_count": 35,
   "metadata": {},
   "outputs": [
    {
     "data": {
      "text/plain": [
       "-1.967390577389944e-11"
      ]
     },
     "execution_count": 35,
     "metadata": {},
     "output_type": "execute_result"
    }
   ],
   "source": [
    "test_coord_skycoord_rotdec.dec.degree"
   ]
  },
  {
   "cell_type": "code",
   "execution_count": 36,
   "metadata": {},
   "outputs": [
    {
     "data": {
      "text/plain": [
       "359.9999999999938"
      ]
     },
     "execution_count": 36,
     "metadata": {},
     "output_type": "execute_result"
    }
   ],
   "source": [
    "test_coord_skycoord_rotra.ra.degree"
   ]
  },
  {
   "cell_type": "code",
   "execution_count": 37,
   "metadata": {},
   "outputs": [
    {
     "data": {
      "text/plain": [
       "359.9999999999905"
      ]
     },
     "execution_count": 37,
     "metadata": {},
     "output_type": "execute_result"
    }
   ],
   "source": [
    "test_coord_skycoord_rotdec.ra.degree"
   ]
  },
  {
   "cell_type": "markdown",
   "metadata": {},
   "source": [
    "Yay."
   ]
  },
  {
   "cell_type": "markdown",
   "metadata": {},
   "source": [
    "Now let's introduce another coordinate system, which is the rotated system so that the viewing direction looks straight at the origin (and has the same north as GCRS, because of the order in which the rotations from GCRS are done). Let's call this system `harry`."
   ]
  },
  {
   "cell_type": "code",
   "execution_count": 38,
   "metadata": {},
   "outputs": [],
   "source": [
    "def gcrs_to_harry(pointing_skycoord: SkyCoord):\n",
    "    \"\"\"Rotate back so that at coord_skycoord is at ra=0, dec=0\"\"\"\n",
    "    return rot_dec(pointing_skycoord.dec)@rot_ra(pointing_skycoord.ra)"
   ]
  },
  {
   "cell_type": "code",
   "execution_count": 39,
   "metadata": {},
   "outputs": [
    {
     "data": {
      "text/plain": [
       "array([ 1.00000000e+00,  5.55111512e-17, -5.55111512e-17])"
      ]
     },
     "execution_count": 39,
     "metadata": {},
     "output_type": "execute_result"
    }
   ],
   "source": [
    "gcrs_to_harry(test_coord_skycoord)@test_coord_gcrs"
   ]
  },
  {
   "cell_type": "code",
   "execution_count": 40,
   "metadata": {},
   "outputs": [
    {
     "data": {
      "text/plain": [
       "array([1., 0., 0.])"
      ]
     },
     "execution_count": 40,
     "metadata": {},
     "output_type": "execute_result"
    }
   ],
   "source": [
    "gcrs_to_harry(m31_skycoord)@m31_gcrs"
   ]
  },
  {
   "cell_type": "code",
   "execution_count": 42,
   "metadata": {},
   "outputs": [
    {
     "data": {
      "text/plain": [
       "array([[-0.24281079, -0.89241702,  0.24281079,  0.89241702],\n",
       "       [-0.92905429,  0.10127823,  0.92905429, -0.10127823],\n",
       "       [ 0.27890391, -0.43938692, -0.27890391,  0.43938692]])"
      ]
     },
     "execution_count": 42,
     "metadata": {},
     "output_type": "execute_result"
    }
   ],
   "source": [
    "dipoles_projected_gcrs"
   ]
  },
  {
   "cell_type": "code",
   "execution_count": 44,
   "metadata": {},
   "outputs": [
    {
     "data": {
      "text/plain": [
       "array([[-8.09485468e-07,  1.26055095e-06,  8.09485468e-07,\n",
       "        -1.26055095e-06],\n",
       "       [ 8.44254267e-01,  5.35835098e-01, -8.44254267e-01,\n",
       "        -5.35835098e-01],\n",
       "       [ 5.35836806e-01, -8.44160543e-01, -5.35836806e-01,\n",
       "         8.44160543e-01]])"
      ]
     },
     "execution_count": 44,
     "metadata": {},
     "output_type": "execute_result"
    }
   ],
   "source": [
    "gcrs_to_harry(test_coord_skycoord)@dipoles_projected_gcrs"
   ]
  },
  {
   "cell_type": "markdown",
   "metadata": {},
   "source": [
    "Ok, so we didn't need to project the dipoles, since in the `harry` coordinate frame, projection corresponds to setting the first coordinate to zero."
   ]
  },
  {
   "cell_type": "code",
   "execution_count": 48,
   "metadata": {},
   "outputs": [],
   "source": [
    "dipoles_gcrs = (gcrs_to_itrs(t0).T)@db.pqr_to_etrs[stationname]@dipoles_pqr"
   ]
  },
  {
   "cell_type": "code",
   "execution_count": 49,
   "metadata": {},
   "outputs": [
    {
     "data": {
      "text/plain": [
       "array([[ 0.00937531, -0.01459946, -0.00937531,  0.01459946],\n",
       "       [ 0.84425495,  0.53583404, -0.84425495, -0.53583404],\n",
       "       [ 0.53583606, -0.84415938, -0.53583606,  0.84415938]])"
      ]
     },
     "execution_count": 49,
     "metadata": {},
     "output_type": "execute_result"
    }
   ],
   "source": [
    "gcrs_to_harry(test_coord_skycoord)@dipoles_gcrs"
   ]
  },
  {
   "cell_type": "code",
   "execution_count": 51,
   "metadata": {},
   "outputs": [],
   "source": [
    "dipoles_harry = gcrs_to_harry(test_coord_skycoord)@dipoles_gcrs"
   ]
  },
  {
   "cell_type": "markdown",
   "metadata": {},
   "source": [
    "Ok, let's put all of this in a function:"
   ]
  },
  {
   "cell_type": "markdown",
   "metadata": {},
   "source": [
    "## Real code"
   ]
  },
  {
   "cell_type": "code",
   "execution_count": 3,
   "metadata": {},
   "outputs": [],
   "source": [
    "def station_to_earthlocation(station_name):\n",
    "    \"\"\"Returns an astropy EarthLocation for a given station (e.g. 'CS001LBA')\"\"\"\n",
    "    x,y,z = db.phase_centres[station_name]\n",
    "    return EarthLocation(x=x*u.m, y=y*u.m, z=z*u.m)"
   ]
  },
  {
   "cell_type": "code",
   "execution_count": 4,
   "metadata": {},
   "outputs": [],
   "source": [
    "def gcrs_to_itrs(t):\n",
    "    return SkyCoord(x=np.array([1,0,0]),\n",
    "                    y=np.array([0,1,0]),\n",
    "                    z=np.array([0,0,1]),\n",
    "                    representation_type='cartesian'\n",
    "                   ).transform_to(ITRS(obstime=t)).cartesian.get_xyz().value"
   ]
  },
  {
   "cell_type": "code",
   "execution_count": 5,
   "metadata": {},
   "outputs": [],
   "source": [
    "def rot_ra(phi):\n",
    "    \"\"\"Rotates back along the z-axis with an angle phi\"\"\"\n",
    "    return  np.array([[np.cos(-phi), - np.sin(-phi), 0],\n",
    "                      [np.sin(-phi),   np.cos(-phi), 0],\n",
    "                      [0, 0, 1]])\n",
    "\n"
   ]
  },
  {
   "cell_type": "code",
   "execution_count": 6,
   "metadata": {},
   "outputs": [],
   "source": [
    "def rot_dec(theta):\n",
    "    \"\"\"Rotates back along the y-axis with an angle theta\"\"\"\n",
    "    return  np.array([[np.cos(-theta), 0, - np.sin(-theta)],\n",
    "                      [0,              1,                0],\n",
    "                      [np.sin(-theta), 0,   np.cos(-theta)]])"
   ]
  },
  {
   "cell_type": "code",
   "execution_count": 7,
   "metadata": {},
   "outputs": [],
   "source": [
    "def gcrs_to_harry(pointing_skycoord: SkyCoord):\n",
    "    \"\"\"Rotate back so that at coord_skycoord is at ra=0, dec=0\"\"\"\n",
    "    return rot_dec(pointing_skycoord.dec)@rot_ra(pointing_skycoord.ra)"
   ]
  },
  {
   "cell_type": "code",
   "execution_count": 8,
   "metadata": {},
   "outputs": [],
   "source": [
    "def get_dipoles_harry(pointing_skycoord, time, stationname):\n",
    "    a = np.sqrt(.5)\n",
    "    dipoles_pqr = np.array([[ a,  a, 0],\n",
    "                            [ a, -a, 0],\n",
    "                            [-a, -a, 0],\n",
    "                            [-a,  a, 0]]).T\n",
    "    dipoles_gcrs = (gcrs_to_itrs(time).T) @ db.pqr_to_etrs[stationname] @ dipoles_pqr\n",
    "    dipoles_harry = gcrs_to_harry(pointing_skycoord) @ dipoles_gcrs\n",
    "    return dipoles_harry"
   ]
  },
  {
   "cell_type": "code",
   "execution_count": 9,
   "metadata": {},
   "outputs": [],
   "source": [
    "dipoles_harry = get_dipoles_harry(SkyCoord.from_name(\"M31\"), Time.now(), \"IE613LBA\")"
   ]
  },
  {
   "cell_type": "code",
   "execution_count": 10,
   "metadata": {},
   "outputs": [],
   "source": [
    "def plot_dipoles_harry(pointing_str: str, timedelta: float, stationname: str):\n",
    "    \"\"\"Plot projected dipoles\"\"\"\n",
    "    fig, ax = plt.subplots(1)\n",
    "    \n",
    "    t0 = Time(\"2019-01-01T01:00\")\n",
    "    \n",
    "    if pointing_str == \"zenith\":\n",
    "        pointing = AltAz(location=station_to_earthlocation(stationname),\n",
    "                         alt=89.0*u.deg, az=0*u.deg,\n",
    "                         obstime=t0).transform_to(GCRS)\n",
    "    else:\n",
    "        pointing = SkyCoord.from_name(pointing_str)\n",
    "\n",
    "    time = t0 + timedelta * u.day\n",
    "    \n",
    "    dipoles_harry = get_dipoles_harry(pointing,\n",
    "                                      time,\n",
    "                                      stationname)\n",
    "    \n",
    "    x, y = dipoles_harry[1:3]\n",
    "    ax.grid()\n",
    "    ax.arrow(x[2], y[2], x[0] - x[2], y[0] - y[2], head_width=0.1, color='r',\n",
    "             length_includes_head=True)\n",
    "    ax.arrow(x[1], y[1], x[3] - x[1], y[3] - y[1], head_width=0.1, color='b',\n",
    "             length_includes_head=True)\n",
    "    ax.set_aspect(1)\n",
    "    ax.set_xlim(-1, 1)\n",
    "    ax.set_ylim(-1, 1)\n",
    "    ax.set_xticks([-1,0,1])\n",
    "    ax.set_yticks([-1,0,1])\n",
    "    ax.tick_params(axis=\"x\", bottom=False, top=False, labelbottom=False)\n",
    "    ax.tick_params(axis=\"y\", left=False, right=False, labelleft=False)\n",
    "    ax.set_xlabel(r\"$\\Delta  \\alpha$\", fontsize=16)\n",
    "    ax.set_ylabel(r\"$\\Delta  \\delta$\", fontsize=16)\n",
    "    ax.set_title(f\"Dipoles of {stationname} as seen from \\n{pointing_str} at {time.iso[:16]}\")\n",
    "    _ = ax.plot(0, 0, 'kx');\n",
    "    return fig"
   ]
  },
  {
   "cell_type": "code",
   "execution_count": 11,
   "metadata": {},
   "outputs": [
    {
     "data": {
      "image/png": "[encoded data removed]",
      "text/plain": [
       "<Figure size 432x288 with 1 Axes>"
      ]
     },
     "metadata": {},
     "output_type": "display_data"
    }
   ],
   "source": [
    "plot_dipoles_harry(\"M31\", 0, \"IE613LBA\");"
   ]
  },
  {
   "cell_type": "code",
   "execution_count": 12,
   "metadata": {},
   "outputs": [
    {
     "data": {
      "image/png": "[encoded data removed]",
      "text/plain": [
       "<Figure size 432x288 with 1 Axes>"
      ]
     },
     "metadata": {},
     "output_type": "display_data"
    }
   ],
   "source": [
    "plot_dipoles_harry(\"zenith\", 0, \"IE613LBA\");"
   ]
  },
  {
   "cell_type": "markdown",
   "metadata": {},
   "source": [
    "Try from the superterp (where up should be North):"
   ]
  },
  {
   "cell_type": "code",
   "execution_count": 13,
   "metadata": {},
   "outputs": [
    {
     "data": {
      "image/png": "[encoded data removed]",
      "text/plain": [
       "<Figure size 432x288 with 1 Axes>"
      ]
     },
     "metadata": {},
     "output_type": "display_data"
    }
   ],
   "source": [
    "plot_dipoles_harry(\"zenith\", 0, \"CS002LBA\");"
   ]
  },
  {
   "cell_type": "code",
   "execution_count": 14,
   "metadata": {},
   "outputs": [
    {
     "data": {
      "image/png": "[encoded data removed]",
      "text/plain": [
       "<Figure size 432x288 with 1 Axes>"
      ]
     },
     "metadata": {},
     "output_type": "display_data"
    }
   ],
   "source": [
    "plot_dipoles_harry(\"zenith\", 0, \"LV614LBA\");"
   ]
  },
  {
   "cell_type": "markdown",
   "metadata": {},
   "source": [
    "Now make it interactive:"
   ]
  },
  {
   "cell_type": "code",
   "execution_count": 15,
   "metadata": {},
   "outputs": [],
   "source": [
    "from ipywidgets import interact, interactive, fixed, interact_manual"
   ]
  },
  {
   "cell_type": "code",
   "execution_count": 16,
   "metadata": {},
   "outputs": [
    {
     "data": {
      "application/vnd.jupyter.widget-view+json": {
       "model_id": "49e12806803643cf8d90ff1ad75f6782",
       "version_major": 2,
       "version_minor": 0
      },
      "text/plain": [
       "interactive(children=(Dropdown(description='pointing_str', options=('M31', 'Cas A', 'zenith'), value='M31'), F…"
      ]
     },
     "metadata": {},
     "output_type": "display_data"
    }
   ],
   "source": [
    "interactive_plot = interactive(plot_dipoles_harry,\n",
    "                               stationname=list(db.phase_centres.keys()),\n",
    "                               timedelta=(0., 1., 0.05),\n",
    "                               pointing_str=[\"M31\", \"Cas A\", \"zenith\"])\n",
    "output = interactive_plot.children[-1]\n",
    "output.layout.height = '350px'\n",
    "interactive_plot"
   ]
  },
  {
   "cell_type": "code",
   "execution_count": 18,
   "metadata": {},
   "outputs": [
    {
     "name": "stderr",
     "output_type": "stream",
     "text": [
      "/anaconda/envs/school19/lib/python3.6/site-packages/matplotlib/pyplot.py:514: RuntimeWarning: More than 20 figures have been opened. Figures created through the pyplot interface (`matplotlib.pyplot.figure`) are retained until explicitly closed and may consume too much memory. (To control this warning, see the rcParam `figure.max_open_warning`).\n",
      "  max_open_warning, RuntimeWarning)\n"
     ]
    }
   ],
   "source": [
    "for framenum, time_delta in enumerate(np.linspace(0, 1, 120)):\n",
    "    f = plot_dipoles_harry(\"zenith\", time_delta, \"CS002LBA\");\n",
    "    _ = f.savefig(f\"frame{framenum:03d}.png\");"
   ]
  },
  {
   "cell_type": "code",
   "execution_count": null,
   "metadata": {},
   "outputs": [],
   "source": []
  }
 ],
 "metadata": {
  "kernelspec": {
   "display_name": "Python 3",
   "language": "python",
   "name": "python3"
  },
  "language_info": {
   "codemirror_mode": {
    "name": "ipython",
    "version": 3
   },
   "file_extension": ".py",
   "mimetype": "text/x-python",
   "name": "python",
   "nbconvert_exporter": "python",
   "pygments_lexer": "ipython3",
   "version": "3.6.8"
  }
 },
 "nbformat": 4,
 "nbformat_minor": 2
}
