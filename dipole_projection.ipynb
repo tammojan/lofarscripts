{
 "cells": [
  {
   "cell_type": "code",
   "execution_count": 1,
   "metadata": {},
   "outputs": [],
   "source": [
    "from lofarantpos.db import LofarAntennaDatabase\n",
    "import lofarantpos.geo as lofargeo\n",
    "import astropy.units as u\n",
    "import matplotlib.pyplot as plt\n",
    "from astropy.time import Time\n",
    "from astropy.coordinates import ITRS, EarthLocation, GCRS, SkyCoord, AltAz\n",
    "import numpy as np\n",
    "from numpy.linalg import norm"
   ]
  },
  {
   "cell_type": "code",
   "execution_count": 2,
   "metadata": {},
   "outputs": [],
   "source": [
    "db = LofarAntennaDatabase()"
   ]
  },
  {
   "cell_type": "code",
   "execution_count": 3,
   "metadata": {},
   "outputs": [],
   "source": [
    "t0 = Time(\"2019-01-01T01:00\")\n",
    "stationname = \"CS301LBA\""
   ]
  },
  {
   "cell_type": "code",
   "execution_count": 4,
   "metadata": {},
   "outputs": [],
   "source": [
    "def station_to_itrs(station_name):\n",
    "    \"\"\"Returns an astropy ITRS coordinate for a given station (e.g. 'CS001LBA')\"\"\"\n",
    "    x,y,z = db.phase_centres[station_name]\n",
    "    return ITRS(x=x*u.m, y=y*u.m, z=z*u.m)"
   ]
  },
  {
   "cell_type": "code",
   "execution_count": 5,
   "metadata": {},
   "outputs": [],
   "source": [
    "def station_to_earthlocation(station_name):\n",
    "    \"\"\"Returns an astropy EarthLocation for a given station (e.g. 'CS001LBA')\"\"\"\n",
    "    x,y,z = db.phase_centres[station_name]\n",
    "    return EarthLocation(x=x*u.m, y=y*u.m, z=z*u.m)"
   ]
  },
  {
   "cell_type": "markdown",
   "metadata": {},
   "source": [
    "We will test at zenith:"
   ]
  },
  {
   "cell_type": "code",
   "execution_count": 6,
   "metadata": {},
   "outputs": [],
   "source": [
    "test_coord_skycoord = AltAz(location=station_to_earthlocation(stationname),\n",
    "                            alt=89.0*u.deg, az=0*u.deg,\n",
    "                            obstime=t0).transform_to(GCRS)"
   ]
  },
  {
   "cell_type": "code",
   "execution_count": 7,
   "metadata": {},
   "outputs": [],
   "source": [
    "test_coord_gcrs = test_coord_skycoord.cartesian.get_xyz().value"
   ]
  },
  {
   "cell_type": "markdown",
   "metadata": {},
   "source": [
    "Let's make a matrix to go from sky (GCRS) to ITRS:"
   ]
  },
  {
   "cell_type": "code",
   "execution_count": 8,
   "metadata": {},
   "outputs": [],
   "source": [
    "def gcrs_to_itrs(t):\n",
    "    return SkyCoord(x=np.array([1,0,0]),\n",
    "                    y=np.array([0,1,0]),\n",
    "                    z=np.array([0,0,1]),\n",
    "                    representation_type='cartesian'\n",
    "                   ).transform_to(ITRS(obstime=t)).cartesian.get_xyz().value"
   ]
  },
  {
   "cell_type": "code",
   "execution_count": 9,
   "metadata": {},
   "outputs": [
    {
     "data": {
      "text/plain": [
       "array([[-4.25129940e-01,  9.05181167e-01,  8.24577429e-04],\n",
       "       [-9.05130523e-01, -4.25025946e-01,  1.72871689e-03],\n",
       "       [ 1.80872021e-03, -3.48446758e-05,  9.99998166e-01]])"
      ]
     },
     "execution_count": 9,
     "metadata": {},
     "output_type": "execute_result"
    }
   ],
   "source": [
    "gcrs_to_itrs(t0)"
   ]
  },
  {
   "cell_type": "markdown",
   "metadata": {},
   "source": [
    "Test that this matrix does the same thing as an astropy transformation:"
   ]
  },
  {
   "cell_type": "code",
   "execution_count": 10,
   "metadata": {},
   "outputs": [],
   "source": [
    "m31 = SkyCoord.from_name(\"M31\")"
   ]
  },
  {
   "cell_type": "code",
   "execution_count": 11,
   "metadata": {},
   "outputs": [
    {
     "data": {
      "text/plain": [
       "array([-0.18731299, -0.72661166,  0.66092166])"
      ]
     },
     "execution_count": 11,
     "metadata": {},
     "output_type": "execute_result"
    }
   ],
   "source": [
    "gcrs_to_itrs(t0).dot(m31.cartesian.get_xyz().value)"
   ]
  },
  {
   "cell_type": "code",
   "execution_count": 12,
   "metadata": {},
   "outputs": [
    {
     "data": {
      "text/plain": [
       "<SkyCoord (ITRS: obstime=2019-01-01T01:00:00.000): (x, y, z) [dimensionless]\n",
       "    (-0.18731371, -0.72665471, 0.66097391)>"
      ]
     },
     "execution_count": 12,
     "metadata": {},
     "output_type": "execute_result"
    }
   ],
   "source": [
    "m31.transform_to(ITRS(obstime=t0))"
   ]
  },
  {
   "cell_type": "markdown",
   "metadata": {},
   "source": [
    "Yay."
   ]
  },
  {
   "cell_type": "markdown",
   "metadata": {},
   "source": [
    "To test whether we computed zenith, let's test whether the ITRS-vector of zenith corresponds to the ITRS-vector that points towards the station phase center."
   ]
  },
  {
   "cell_type": "code",
   "execution_count": 13,
   "metadata": {},
   "outputs": [],
   "source": [
    "station_itrs = station_to_itrs('CS301LBA').cartesian.get_xyz().value\n",
    "station_itrs /= norm(station_itrs)"
   ]
  },
  {
   "cell_type": "code",
   "execution_count": 14,
   "metadata": {},
   "outputs": [
    {
     "data": {
      "text/plain": [
       "1.0797122426452053"
      ]
     },
     "execution_count": 14,
     "metadata": {},
     "output_type": "execute_result"
    }
   ],
   "source": [
    "np.rad2deg(np.arccos((gcrs_to_itrs(t0)@test_coord_gcrs)@station_itrs))"
   ]
  },
  {
   "cell_type": "markdown",
   "metadata": {},
   "source": [
    "Ok, somehow there is an error of about one degree. That's probably because the station plane is not exactly tangent to a spherical earth. Let's ignore for now."
   ]
  },
  {
   "cell_type": "markdown",
   "metadata": {},
   "source": [
    "Define the dipoles, as unit vectors in the PQR system, and convert them to ETRS."
   ]
  },
  {
   "cell_type": "code",
   "execution_count": 15,
   "metadata": {},
   "outputs": [],
   "source": [
    "pqr_to_etrs = db.pqr_to_etrs[stationname]"
   ]
  },
  {
   "cell_type": "code",
   "execution_count": 16,
   "metadata": {},
   "outputs": [],
   "source": [
    "a = np.sqrt(.5)\n",
    "dipoles_pqr = np.array([[ a,  a, 0],\n",
    "                        [ a, -a, 0],\n",
    "                        [-a, -a, 0],\n",
    "                        [-a,  a, 0]]).T"
   ]
  },
  {
   "cell_type": "markdown",
   "metadata": {},
   "source": [
    "Note that we assume here that ITRS = ETRS, which is true to the meter level. (We could use Michiel's `etrsitrs` package here, but I think we've already got enough coordinate frames.)"
   ]
  },
  {
   "cell_type": "markdown",
   "metadata": {},
   "source": [
    "So, now we have three coordinate frames:\n",
    " * GCRS (sky)\n",
    " * ITRS (Earth)\n",
    " * pqr (station)\n",
    " \n",
    "We have two matrices to convert between these:\n",
    " * `pqr_to_etrs`\n",
    " * `gcrs_to_itrs`\n",
    "\n",
    "To convert the other way around, these matrices need to be inverted, which is the same as transposing them because they are orthonormal."
   ]
  },
  {
   "cell_type": "code",
   "execution_count": 17,
   "metadata": {},
   "outputs": [
    {
     "data": {
      "text/plain": [
       "array([[ 1.00000000e+00, -4.05491097e-11, -3.04055904e-11],\n",
       "       [-4.05491097e-11,  1.00000000e+00, -9.99179732e-12],\n",
       "       [-3.04055904e-11, -9.99179732e-12,  1.00000000e+00]])"
      ]
     },
     "execution_count": 17,
     "metadata": {},
     "output_type": "execute_result"
    }
   ],
   "source": [
    "pqr_to_etrs@(pqr_to_etrs.T)"
   ]
  },
  {
   "cell_type": "markdown",
   "metadata": {},
   "source": [
    "We can get rid of the ITRS frame by creating a pqr_to_gcrs."
   ]
  },
  {
   "cell_type": "code",
   "execution_count": 18,
   "metadata": {},
   "outputs": [],
   "source": [
    "def gcrs_to_pqr(t):\n",
    "    return gcrs_to_itrs(t)@(pqr_to_etrs.T)"
   ]
  },
  {
   "cell_type": "code",
   "execution_count": 20,
   "metadata": {},
   "outputs": [
    {
     "data": {
      "text/plain": [
       "array([-0.31094028,  0.49943389,  0.80862966])"
      ]
     },
     "execution_count": 20,
     "metadata": {},
     "output_type": "execute_result"
    }
   ],
   "source": [
    "test_coord_gcrs"
   ]
  },
  {
   "cell_type": "markdown",
   "metadata": {},
   "source": [
    "Project the dipoles to the plane orthogonal to the test_coord. Do this in ITRS frame."
   ]
  },
  {
   "cell_type": "code",
   "execution_count": 21,
   "metadata": {},
   "outputs": [],
   "source": [
    "test_coord_itrs = gcrs_to_itrs(t0)@test_coord_gcrs"
   ]
  },
  {
   "cell_type": "code",
   "execution_count": 22,
   "metadata": {},
   "outputs": [],
   "source": [
    "dipoles_itrs = pqr_to_etrs@dipoles_pqr"
   ]
  },
  {
   "cell_type": "code",
   "execution_count": 23,
   "metadata": {},
   "outputs": [],
   "source": [
    "dipoles_projected_itrs = dipoles_itrs - \\\n",
    "                         test_coord_itrs.dot(dipoles_itrs) * test_coord_itrs[:, np.newaxis]"
   ]
  },
  {
   "cell_type": "markdown",
   "metadata": {},
   "source": [
    "Check that the projected dipoles are indeed orthogonal to the test coordinate:"
   ]
  },
  {
   "cell_type": "code",
   "execution_count": 24,
   "metadata": {},
   "outputs": [
    {
     "data": {
      "text/plain": [
       "array([-8.74538288e-07,  8.61327524e-07,  8.74538288e-07, -8.61327524e-07])"
      ]
     },
     "execution_count": 24,
     "metadata": {},
     "output_type": "execute_result"
    }
   ],
   "source": [
    "dipoles_projected_itrs.T@test_coord_itrs"
   ]
  },
  {
   "cell_type": "markdown",
   "metadata": {},
   "source": [
    "Yay."
   ]
  },
  {
   "cell_type": "code",
   "execution_count": 132,
   "metadata": {},
   "outputs": [],
   "source": [
    "dipoles_projected_gcrs = (gcrs_to_itrs(t0).T)@dipoles_projected_itrs"
   ]
  },
  {
   "cell_type": "code",
   "execution_count": 135,
   "metadata": {},
   "outputs": [],
   "source": []
  },
  {
   "cell_type": "markdown",
   "metadata": {},
   "source": [
    "These are the dipoles projected to GCRS. All we need to do now is plot them on the plane orthogonal to the vector `test_coord_gcrs`.\n",
    "Unfortunately I don't know how to do this properly. Idea for now: rotate along the *z*-axis to set RA to zero, then rotate along the `y`-axis to set DEC to zero. Then the vectors should point straight up."
   ]
  },
  {
   "cell_type": "code",
   "execution_count": 80,
   "metadata": {},
   "outputs": [],
   "source": [
    "def rot_ra(phi):\n",
    "    \"\"\"Rotates back along the z-axis with an angle phi\"\"\"\n",
    "    return  np.array([[np.cos(-phi), - np.sin(-phi), 0],\n",
    "                      [np.sin(-phi),   np.cos(-phi), 0],\n",
    "                      [0, 0, 1]])"
   ]
  },
  {
   "cell_type": "markdown",
   "metadata": {},
   "source": [
    "Let's check this matrix by rotating `test_coord` back to ra=0:"
   ]
  },
  {
   "cell_type": "code",
   "execution_count": 81,
   "metadata": {},
   "outputs": [],
   "source": [
    "test_coord_gcrs_rotra = rot_ra(test_coord_skycoord.ra)@test_coord_gcrs"
   ]
  },
  {
   "cell_type": "code",
   "execution_count": 82,
   "metadata": {},
   "outputs": [],
   "source": [
    "test_coord_skycoord_rotra = SkyCoord(x=test_coord_gcrs_rotra[0],\n",
    "                                     y=test_coord_gcrs_rotra[1],\n",
    "                                     z=test_coord_gcrs_rotra[2],\n",
    "                                     representation_type='cartesian',frame=GCRS).transform_to(GCRS)"
   ]
  },
  {
   "cell_type": "code",
   "execution_count": 95,
   "metadata": {},
   "outputs": [
    {
     "data": {
      "text/plain": [
       "121.90579251208747"
      ]
     },
     "execution_count": 95,
     "metadata": {},
     "output_type": "execute_result"
    }
   ],
   "source": [
    "test_coord_skycoord.ra.degree"
   ]
  },
  {
   "cell_type": "code",
   "execution_count": 93,
   "metadata": {},
   "outputs": [
    {
     "data": {
      "text/plain": [
       "359.99999999999324"
      ]
     },
     "execution_count": 93,
     "metadata": {},
     "output_type": "execute_result"
    }
   ],
   "source": [
    "test_coord_skycoord_rotra.ra.degree"
   ]
  },
  {
   "cell_type": "markdown",
   "metadata": {},
   "source": [
    "Yay. Check that the declination does not change:"
   ]
  },
  {
   "cell_type": "code",
   "execution_count": 94,
   "metadata": {},
   "outputs": [
    {
     "data": {
      "text/plain": [
       "53.96226118375554"
      ]
     },
     "execution_count": 94,
     "metadata": {},
     "output_type": "execute_result"
    }
   ],
   "source": [
    "test_coord_skycoord.dec.degree"
   ]
  },
  {
   "cell_type": "code",
   "execution_count": 92,
   "metadata": {},
   "outputs": [
    {
     "data": {
      "text/plain": [
       "53.96226118377357"
      ]
     },
     "execution_count": 92,
     "metadata": {},
     "output_type": "execute_result"
    }
   ],
   "source": [
    "test_coord_skycoord_rotra.dec.degree"
   ]
  },
  {
   "cell_type": "markdown",
   "metadata": {},
   "source": [
    "Yay."
   ]
  },
  {
   "cell_type": "markdown",
   "metadata": {},
   "source": [
    "Now rotate the declination."
   ]
  },
  {
   "cell_type": "code",
   "execution_count": 110,
   "metadata": {},
   "outputs": [],
   "source": [
    "def rot_dec(theta):\n",
    "    \"\"\"Rotates back along the y-axis with an angle theta\"\"\"\n",
    "    return  np.array([[np.cos(-theta), 0, - np.sin(-theta)],\n",
    "                      [0,              1,                0],\n",
    "                      [np.sin(-theta), 0,   np.cos(-theta)]])"
   ]
  },
  {
   "cell_type": "markdown",
   "metadata": {},
   "source": [
    "Test that this works:"
   ]
  },
  {
   "cell_type": "code",
   "execution_count": 116,
   "metadata": {},
   "outputs": [],
   "source": [
    "test_coord_gcrs_rotdec = rot_dec(test_coord_skycoord_rotra.dec)@test_coord_gcrs_rotra"
   ]
  },
  {
   "cell_type": "code",
   "execution_count": 117,
   "metadata": {},
   "outputs": [],
   "source": [
    "test_coord_skycoord_rotdec = SkyCoord(x=test_coord_gcrs_rotdec[0],\n",
    "                                      y=test_coord_gcrs_rotdec[1],\n",
    "                                      z=test_coord_gcrs_rotdec[2],\n",
    "                                      representation_type='cartesian',frame=GCRS).transform_to(GCRS)"
   ]
  },
  {
   "cell_type": "code",
   "execution_count": 118,
   "metadata": {},
   "outputs": [
    {
     "data": {
      "text/plain": [
       "-2.2151557830572218e-11"
      ]
     },
     "execution_count": 118,
     "metadata": {},
     "output_type": "execute_result"
    }
   ],
   "source": [
    "test_coord_skycoord_rotdec.dec.degree"
   ]
  },
  {
   "cell_type": "code",
   "execution_count": 119,
   "metadata": {},
   "outputs": [
    {
     "data": {
      "text/plain": [
       "359.99999999999324"
      ]
     },
     "execution_count": 119,
     "metadata": {},
     "output_type": "execute_result"
    }
   ],
   "source": [
    "test_coord_skycoord_rotra.ra.degree"
   ]
  },
  {
   "cell_type": "code",
   "execution_count": 120,
   "metadata": {},
   "outputs": [
    {
     "data": {
      "text/plain": [
       "359.9999999999905"
      ]
     },
     "execution_count": 120,
     "metadata": {},
     "output_type": "execute_result"
    }
   ],
   "source": [
    "test_coord_skycoord_rotdec.ra.degree"
   ]
  },
  {
   "cell_type": "code",
   "execution_count": 121,
   "metadata": {},
   "outputs": [
    {
     "data": {
      "text/latex": [
       "$360^\\circ00{}^\\prime00{}^{\\prime\\prime}$"
      ],
      "text/plain": [
       "<Longitude 360. deg>"
      ]
     },
     "execution_count": 121,
     "metadata": {},
     "output_type": "execute_result"
    }
   ],
   "source": [
    "test_coord_skycoord_rotdec.ra"
   ]
  },
  {
   "cell_type": "code",
   "execution_count": 123,
   "metadata": {},
   "outputs": [],
   "source": [
    "def rotate_back_gcrs(coord_skycoord):\n",
    "    \"\"\"Rotate back so that at coord_skycoord is at ra=0, dec=0\"\"\"\n",
    "    return rot_dec(coord_skycoord.dec)@rot_ra(coord_skycoord.ra)"
   ]
  },
  {
   "cell_type": "code",
   "execution_count": 125,
   "metadata": {},
   "outputs": [
    {
     "data": {
      "text/plain": [
       "array([ 1.00000000e+00,  0.00000000e+00, -1.11022302e-16])"
      ]
     },
     "execution_count": 125,
     "metadata": {},
     "output_type": "execute_result"
    }
   ],
   "source": [
    "rotate_back_gcrs(test_coord_skycoord)@test_coord_gcrs"
   ]
  },
  {
   "cell_type": "code",
   "execution_count": 128,
   "metadata": {},
   "outputs": [
    {
     "data": {
      "text/plain": [
       "array([[-0.29572218, -0.90317679,  0.29572218,  0.90317679],\n",
       "       [-0.85933662,  0.10938401,  0.85933662, -0.10938401],\n",
       "       [ 0.41703766, -0.41485401, -0.41703766,  0.41485401]])"
      ]
     },
     "execution_count": 128,
     "metadata": {},
     "output_type": "execute_result"
    }
   ],
   "source": [
    "dipoles_projected_gcrs"
   ]
  },
  {
   "cell_type": "code",
   "execution_count": 130,
   "metadata": {},
   "outputs": [
    {
     "data": {
      "text/plain": [
       "array([[-8.74538288e-07,  8.61327524e-07,  8.74538288e-07,\n",
       "        -8.61327524e-07],\n",
       "       [ 7.05224129e-01,  7.08911183e-01, -7.05224129e-01,\n",
       "        -7.08911183e-01],\n",
       "       [ 7.08865553e-01, -7.05153862e-01, -7.08865553e-01,\n",
       "         7.05153862e-01]])"
      ]
     },
     "execution_count": 130,
     "metadata": {},
     "output_type": "execute_result"
    }
   ],
   "source": [
    "rotate_back_gcrs(test_coord_skycoord)@dipoles_projected_gcrs"
   ]
  },
  {
   "cell_type": "code",
   "execution_count": 136,
   "metadata": {},
   "outputs": [],
   "source": [
    "dipoles_gcrs = (gcrs_to_itrs(t0).T)@pqr_to_etrs@dipoles_pqr"
   ]
  },
  {
   "cell_type": "code",
   "execution_count": 139,
   "metadata": {},
   "outputs": [],
   "source": [
    "dipoles_projected_rotated = rotate_back_gcrs(test_coord_skycoord)@dipoles_gcrs"
   ]
  },
  {
   "cell_type": "code",
   "execution_count": 142,
   "metadata": {},
   "outputs": [
    {
     "data": {
      "image/png": "[encoded data removed]",
      "text/plain": [
       "<Figure size 432x288 with 1 Axes>"
      ]
     },
     "metadata": {
      "needs_background": "light"
     },
     "output_type": "display_data"
    }
   ],
   "source": [
    "fig, ax = plt.subplots(1)\n",
    "x, y = dipoles_projected_rotated[1:3]\n",
    "ax.grid()\n",
    "ax.arrow(x[0], y[0], x[2] - x[0], y[2] - y[0], head_width=0.1, color='r',\n",
    "         length_includes_head=True)\n",
    "ax.arrow(x[1], y[1], x[3] - x[1], y[3] - y[1], head_width=0.1, color='b',\n",
    "         length_includes_head=True)\n",
    "ax.set_aspect(1)\n",
    "ax.set_xlim(-1, 1)\n",
    "ax.set_ylim(-1, 1)\n",
    "ax.set_xlabel(\"P\")\n",
    "ax.set_ylabel(\"Q\")\n",
    "ax.plot(0, 0, 'kx');"
   ]
  },
  {
   "cell_type": "code",
   "execution_count": 19,
   "metadata": {},
   "outputs": [],
   "source": [
    "from ipywidgets import interact, interactive, fixed, interact_manual"
   ]
  },
  {
   "cell_type": "code",
   "execution_count": 20,
   "metadata": {},
   "outputs": [],
   "source": [
    "def plot_wrap(t: float):\n",
    "    return plot_rotation(t0 + t * u.day)"
   ]
  },
  {
   "cell_type": "code",
   "execution_count": 21,
   "metadata": {},
   "outputs": [
    {
     "data": {
      "application/vnd.jupyter.widget-view+json": {
       "model_id": "e9c62f2da6da4ee68408b2937034a90a",
       "version_major": 2,
       "version_minor": 0
      },
      "text/plain": [
       "interactive(children=(FloatSlider(value=0.5, description='t', max=1.0, step=0.05), Output(layout=Layout(height…"
      ]
     },
     "metadata": {},
     "output_type": "display_data"
    }
   ],
   "source": [
    "interactive_plot = interactive(plot_wrap, t=(0., 1., 0.05))\n",
    "output = interactive_plot.children[-1]\n",
    "output.layout.height = '350px'\n",
    "interactive_plot"
   ]
  },
  {
   "cell_type": "code",
   "execution_count": null,
   "metadata": {},
   "outputs": [],
   "source": []
  }
 ],
 "metadata": {
  "kernelspec": {
   "display_name": "Python 3",
   "language": "python",
   "name": "python3"
  },
  "language_info": {
   "codemirror_mode": {
    "name": "ipython",
    "version": 3
   },
   "file_extension": ".py",
   "mimetype": "text/x-python",
   "name": "python",
   "nbconvert_exporter": "python",
   "pygments_lexer": "ipython3",
   "version": "3.6.8"
  }
 },
 "nbformat": 4,
 "nbformat_minor": 2
}
