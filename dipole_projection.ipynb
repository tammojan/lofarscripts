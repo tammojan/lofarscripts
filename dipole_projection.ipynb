{
 "cells": [
  {
   "cell_type": "code",
   "execution_count": 1,
   "metadata": {},
   "outputs": [],
   "source": [
    "from lofarantpos.db import LofarAntennaDatabase\n",
    "import lofarantpos.geo as lofargeo\n",
    "import astropy.units as u\n",
    "import matplotlib.pyplot as plt\n",
    "from astropy.time import Time\n",
    "from astropy.coordinates import ITRS, EarthLocation, AffineTransform, GCRS, ICRS, SkyCoord, AltAz\n",
    "import numpy as np\n",
    "from numpy.linalg import norm"
   ]
  },
  {
   "cell_type": "code",
   "execution_count": 2,
   "metadata": {},
   "outputs": [],
   "source": [
    "db = LofarAntennaDatabase()"
   ]
  },
  {
   "cell_type": "code",
   "execution_count": 3,
   "metadata": {},
   "outputs": [],
   "source": [
    "t0 = Time(\"2019-01-01T01:00\")"
   ]
  },
  {
   "cell_type": "code",
   "execution_count": 4,
   "metadata": {},
   "outputs": [],
   "source": [
    "def station_to_itrs(station_name, time):\n",
    "    \"\"\"Returns an astropy ITRS coordinate for a given station (e.g. 'CS001LBA')\"\"\"\n",
    "    x,y,z = db.phase_centres[station_name]\n",
    "    return ITRS(x=x*u.m, y=y*u.m, z=z*u.m, obstime=time)"
   ]
  },
  {
   "cell_type": "code",
   "execution_count": 5,
   "metadata": {},
   "outputs": [],
   "source": [
    "def station_to_earthlocation(station_name):\n",
    "    \"\"\"Returns an astropy EarthLocation for a given station (e.g. 'CS001LBA')\"\"\"\n",
    "    x,y,z = db.phase_centres[station_name]\n",
    "    return EarthLocation(x=x*u.m, y=y*u.m, z=z*u.m)"
   ]
  },
  {
   "cell_type": "markdown",
   "metadata": {},
   "source": [
    "We will test at zenith:"
   ]
  },
  {
   "cell_type": "code",
   "execution_count": 6,
   "metadata": {},
   "outputs": [],
   "source": [
    "test_coord = AltAz(location=station_to_earthlocation(\"CS301LBA\"),\n",
    "                  alt=89.0*u.deg, az=0*u.deg, obstime=t0).transform_to(ICRS)"
   ]
  },
  {
   "cell_type": "code",
   "execution_count": 7,
   "metadata": {},
   "outputs": [],
   "source": [
    "def get_source_location_itrs(coord: SkyCoord, time: Time):\n",
    "    \"\"\"Get the ITRS coordinates (as numpy array) as a unit norm 3-vector\"\"\"\n",
    "    coord_itrs = coord.transform_to(ITRS(obstime=time))\n",
    "    return coord_itrs.cartesian.get_xyz().value"
   ]
  },
  {
   "cell_type": "code",
   "execution_count": 8,
   "metadata": {},
   "outputs": [
    {
     "data": {
      "text/plain": [
       "array([0.58488718, 0.07044567, 0.80804975])"
      ]
     },
     "execution_count": 8,
     "metadata": {},
     "output_type": "execute_result"
    }
   ],
   "source": [
    "get_source_location_itrs(test_coord, t0)"
   ]
  },
  {
   "cell_type": "markdown",
   "metadata": {},
   "source": [
    "To test whether we computed zenith, let's test whether the ITRS-vector of zenith corresponds to the ITRS-vector that points towards the station phase center."
   ]
  },
  {
   "cell_type": "code",
   "execution_count": 9,
   "metadata": {},
   "outputs": [],
   "source": [
    "station_itrs = station_to_itrs('CS301LBA', t0).cartesian.get_xyz().value\n",
    "station_itrs /= norm(station_itrs)"
   ]
  },
  {
   "cell_type": "code",
   "execution_count": 10,
   "metadata": {},
   "outputs": [
    {
     "data": {
      "text/plain": [
       "1.1853105815488125"
      ]
     },
     "execution_count": 10,
     "metadata": {},
     "output_type": "execute_result"
    }
   ],
   "source": [
    "np.rad2deg(np.arccos(get_source_location_itrs(test_coord, t0).dot(station_itrs)))"
   ]
  },
  {
   "cell_type": "markdown",
   "metadata": {},
   "source": [
    "Ok, somehow there is an error of about one degree. Let's ignore for now."
   ]
  },
  {
   "cell_type": "markdown",
   "metadata": {},
   "source": [
    "Define the dipoles, as unit vectors in the PQR system, and convert them to ETRS."
   ]
  },
  {
   "cell_type": "code",
   "execution_count": 11,
   "metadata": {},
   "outputs": [],
   "source": [
    "def get_dipole_etrs(stationname):\n",
    "    a = np.sqrt(.5)\n",
    "    return db.pqr_to_etrs[stationname]@np.array([[ a,  a, 0],\n",
    "                                                 [ a, -a, 0],\n",
    "                                                 [-a, -a, 0],\n",
    "                                                 [-a,  a, 0]]).T"
   ]
  },
  {
   "cell_type": "markdown",
   "metadata": {},
   "source": [
    "Note that we assume here that ITRS = ETRS, which is true to the meter level. (We could use Michiel's `etrsitrs` package here, but I think we've already got enough coordinate frames.)"
   ]
  },
  {
   "cell_type": "code",
   "execution_count": 12,
   "metadata": {},
   "outputs": [],
   "source": [
    "def get_dipoles_projected(coord, time, stationname):\n",
    "    \"\"\"Get the projected dipoles in PQR system, given a SkyCoord and a time\"\"\"\n",
    "    coord_itrs = get_source_location_itrs(coord, time)\n",
    "    dipole_matrix_etrs = get_dipole_etrs(stationname)\n",
    "    dipoles_projected_itrs = dipole_matrix_etrs - coord_itrs.dot(dipole_matrix_etrs) * coord_itrs[:, np.newaxis]\n",
    "    return db.pqr_to_etrs[stationname].transpose().dot(dipoles_projected_itrs)"
   ]
  },
  {
   "cell_type": "code",
   "execution_count": 15,
   "metadata": {},
   "outputs": [
    {
     "data": {
      "text/plain": [
       "array([[ 0.62566348,  0.32978179, -0.62566348, -0.32978179],\n",
       "       [ 0.75963348, -0.46375179, -0.75963348,  0.46375179],\n",
       "       [ 0.10514307,  0.48712547, -0.10514307, -0.48712547]])"
      ]
     },
     "execution_count": 15,
     "metadata": {},
     "output_type": "execute_result"
    }
   ],
   "source": [
    "get_dipoles_projected(test_coord, t0+5*u.hour, \"CS301LBA\")"
   ]
  },
  {
   "cell_type": "code",
   "execution_count": 18,
   "metadata": {},
   "outputs": [],
   "source": [
    "def plot_rotation(time):\n",
    "    \"\"\"Plots projected dipoles on the sky around a J2000 position\"\"\"\n",
    "    fig, ax = plt.subplots(1)\n",
    "    dipoles_projected = get_dipoles_projected(test_coord, time, \"CS301LBA\")\n",
    "    x, y = dipoles_projected[:2]\n",
    "    ax.grid()\n",
    "    ax.arrow(x[0], y[0], x[2] - x[0], y[2] - y[0], head_width=0.1, color='r',\n",
    "             length_includes_head=True)\n",
    "    ax.arrow(x[1], y[1], x[3] - x[1], y[3] - y[1], head_width=0.1, color='b',\n",
    "             length_includes_head=True)\n",
    "    ax.set_aspect(1)\n",
    "    ax.set_xlim(-1, 1)\n",
    "    ax.set_ylim(-1, 1)\n",
    "    ax.set_xlabel(\"P\")\n",
    "    ax.set_ylabel(\"Q\")\n",
    "    ax.plot(0, 0, 'kx')"
   ]
  },
  {
   "cell_type": "code",
   "execution_count": 32,
   "metadata": {},
   "outputs": [
    {
     "data": {
      "image/png": "[encoded data removed]",
      "text/plain": [
       "<Figure size 432x288 with 1 Axes>"
      ]
     },
     "metadata": {
      "needs_background": "light"
     },
     "output_type": "display_data"
    }
   ],
   "source": [
    "plot_rotation(t0)"
   ]
  },
  {
   "cell_type": "markdown",
   "metadata": {},
   "source": [
    "The test coordinate was defined as zenith at `t0`. Evaluating the dipoles (in the PQR system) will rotate this point for one day."
   ]
  },
  {
   "cell_type": "code",
   "execution_count": 19,
   "metadata": {},
   "outputs": [],
   "source": [
    "from ipywidgets import interact, interactive, fixed, interact_manual"
   ]
  },
  {
   "cell_type": "code",
   "execution_count": 20,
   "metadata": {},
   "outputs": [],
   "source": [
    "def plot_wrap(t: float):\n",
    "    return plot_rotation(t0 + t * u.day)"
   ]
  },
  {
   "cell_type": "code",
   "execution_count": 21,
   "metadata": {},
   "outputs": [
    {
     "data": {
      "application/vnd.jupyter.widget-view+json": {
       "model_id": "e9c62f2da6da4ee68408b2937034a90a",
       "version_major": 2,
       "version_minor": 0
      },
      "text/plain": [
       "interactive(children=(FloatSlider(value=0.5, description='t', max=1.0, step=0.05), Output(layout=Layout(height…"
      ]
     },
     "metadata": {},
     "output_type": "display_data"
    }
   ],
   "source": [
    "interactive_plot = interactive(plot_wrap, t=(0., 1., 0.05))\n",
    "output = interactive_plot.children[-1]\n",
    "output.layout.height = '350px'\n",
    "interactive_plot"
   ]
  },
  {
   "cell_type": "code",
   "execution_count": null,
   "metadata": {},
   "outputs": [],
   "source": []
  }
 ],
 "metadata": {
  "kernelspec": {
   "display_name": "Python 3",
   "language": "python",
   "name": "python3"
  },
  "language_info": {
   "codemirror_mode": {
    "name": "ipython",
    "version": 3
   },
   "file_extension": ".py",
   "mimetype": "text/x-python",
   "name": "python",
   "nbconvert_exporter": "python",
   "pygments_lexer": "ipython3",
   "version": "3.6.8"
  }
 },
 "nbformat": 4,
 "nbformat_minor": 2
}
